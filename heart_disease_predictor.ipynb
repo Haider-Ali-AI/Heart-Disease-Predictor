{
  "nbformat": 4,
  "nbformat_minor": 0,
  "metadata": {
    "colab": {
      "provenance": []
    },
    "kernelspec": {
      "name": "python3",
      "display_name": "Python 3"
    },
    "language_info": {
      "name": "python"
    }
  },
  "cells": [
    {
      "cell_type": "code",
      "execution_count": 13,
      "metadata": {
        "colab": {
          "base_uri": "https://localhost:8080/"
        },
        "id": "cHSh1tWTCFg1",
        "outputId": "a0dd8494-f9e4-4e86-f863-3de931aea74e"
      },
      "outputs": [
        {
          "output_type": "stream",
          "name": "stderr",
          "text": [
            "/tmp/ipython-input-13-3514043738.py:27: FutureWarning: A value is trying to be set on a copy of a DataFrame or Series through chained assignment using an inplace method.\n",
            "The behavior will change in pandas 3.0. This inplace method will never work because the intermediate object on which we are setting values always behaves as a copy.\n",
            "\n",
            "For example, when doing 'df[col].method(value, inplace=True)', try using 'df.method({col: value}, inplace=True)' or df[col] = df[col].method(value) instead, to perform the operation inplace on the original object.\n",
            "\n",
            "\n",
            "  df[col].fillna(df[col].median(), inplace=True)\n",
            "/tmp/ipython-input-13-3514043738.py:31: FutureWarning: A value is trying to be set on a copy of a DataFrame or Series through chained assignment using an inplace method.\n",
            "The behavior will change in pandas 3.0. This inplace method will never work because the intermediate object on which we are setting values always behaves as a copy.\n",
            "\n",
            "For example, when doing 'df[col].method(value, inplace=True)', try using 'df.method({col: value}, inplace=True)' or df[col] = df[col].method(value) instead, to perform the operation inplace on the original object.\n",
            "\n",
            "\n",
            "  df[col].fillna(df[col].mode()[0], inplace=True)\n"
          ]
        },
        {
          "output_type": "stream",
          "name": "stdout",
          "text": [
            "Model Evaluation:\n",
            "Accuracy: 0.7213\n",
            "ROC AUC: 0.7161\n",
            "\n",
            "Confusion Matrix:\n",
            "[[22  7]\n",
            " [10 22]]\n",
            "\n",
            "Classification Report:\n",
            "              precision    recall  f1-score   support\n",
            "\n",
            "           0       0.69      0.76      0.72        29\n",
            "           1       0.76      0.69      0.72        32\n",
            "\n",
            "    accuracy                           0.72        61\n",
            "   macro avg       0.72      0.72      0.72        61\n",
            "weighted avg       0.72      0.72      0.72        61\n",
            "\n",
            "\n",
            "Model saved as 'decision_tree_model.joblib'\n"
          ]
        }
      ],
      "source": [
        "import pandas as pd\n",
        "import numpy as np\n",
        "from sklearn.model_selection import train_test_split\n",
        "from sklearn.tree import DecisionTreeClassifier\n",
        "from sklearn.metrics import accuracy_score, confusion_matrix, classification_report, roc_auc_score, roc_curve\n",
        "import joblib\n",
        "\n",
        "# Load and clean data\n",
        "def load_data():\n",
        "    try:\n",
        "        df = pd.read_csv('heart.csv')\n",
        "    except:\n",
        "        df = pd.read_csv('https://archive.ics.uci.edu/ml/machine-learning-databases/heart-disease/processed.cleveland.data',\n",
        "                        header=None)\n",
        "        columns = ['age', 'sex', 'cp', 'trestbps', 'chol', 'fbs', 'restecg',\n",
        "                   'thalach', 'exang', 'oldpeak', 'slope', 'ca', 'thal', 'target']\n",
        "        df.columns = columns\n",
        "\n",
        "    # Clean data\n",
        "    df = df.replace('?', np.nan)\n",
        "    for col in ['age', 'trestbps', 'chol', 'thalach', 'oldpeak', 'ca', 'thal']:\n",
        "        df[col] = pd.to_numeric(df[col], errors='coerce')\n",
        "\n",
        "    # Fill missing values\n",
        "    num_cols = ['age', 'trestbps', 'chol', 'thalach', 'oldpeak', 'ca']\n",
        "    for col in num_cols:\n",
        "        df[col].fillna(df[col].median(), inplace=True)\n",
        "\n",
        "    cat_cols = ['sex', 'cp', 'fbs', 'restecg', 'exang', 'slope', 'thal']\n",
        "    for col in cat_cols:\n",
        "        df[col].fillna(df[col].mode()[0], inplace=True)\n",
        "\n",
        "    # Convert target to binary\n",
        "    df['target'] = df['target'].apply(lambda x: 1 if x > 0 else 0)\n",
        "\n",
        "    return df\n",
        "\n",
        "# Train and save model\n",
        "def train_and_save_model():\n",
        "    df = load_data()\n",
        "\n",
        "    # Select features and target\n",
        "    X = df.drop('target', axis=1)\n",
        "    y = df['target']\n",
        "\n",
        "    # Split data\n",
        "    X_train, X_test, y_train, y_test = train_test_split(X, y, test_size=0.2, random_state=42)\n",
        "\n",
        "    # Train Decision Tree\n",
        "    dt_model = DecisionTreeClassifier(max_depth=5, random_state=42)\n",
        "    dt_model.fit(X_train, y_train)\n",
        "\n",
        "    # Evaluate\n",
        "    y_pred = dt_model.predict(X_test)\n",
        "    y_proba = dt_model.predict_proba(X_test)[:, 1]\n",
        "\n",
        "    print(\"Model Evaluation:\")\n",
        "    print(f\"Accuracy: {accuracy_score(y_test, y_pred):.4f}\")\n",
        "    print(f\"ROC AUC: {roc_auc_score(y_test, y_proba):.4f}\")\n",
        "    print(\"\\nConfusion Matrix:\")\n",
        "    print(confusion_matrix(y_test, y_pred))\n",
        "    print(\"\\nClassification Report:\")\n",
        "    print(classification_report(y_test, y_pred))\n",
        "\n",
        "    # Save model\n",
        "    joblib.dump(dt_model, 'decision_tree_model.joblib')\n",
        "    print(\"\\nModel saved as 'decision_tree_model.joblib'\")\n",
        "\n",
        "if __name__ == \"__main__\":\n",
        "    train_and_save_model()\n"
      ]
    }
  ]
}